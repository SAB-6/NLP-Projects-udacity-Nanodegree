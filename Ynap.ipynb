{
  "nbformat": 4,
  "nbformat_minor": 0,
  "metadata": {
    "colab": {
      "name": "Ynap.ipynb",
      "provenance": [],
      "authorship_tag": "ABX9TyPMEVnTYxsW856duFPM62WO"
    },
    "kernelspec": {
      "name": "python3",
      "display_name": "Python 3"
    }
  },
  "cells": [
    {
      "cell_type": "markdown",
      "metadata": {
        "id": "5JMehm5evmUf",
        "colab_type": "text"
      },
      "source": [
        ""
      ]
    },
    {
      "cell_type": "code",
      "metadata": {
        "id": "Guu3gJnLvmoP",
        "colab_type": "code",
        "colab": {}
      },
      "source": [
        "import pandas as pd\n",
        "import numpy as np\n",
        "#!pip install tqdm\n",
        "from tqdm import tqdm\n",
        "import os"
      ],
      "execution_count": 1,
      "outputs": []
    },
    {
      "cell_type": "code",
      "metadata": {
        "id": "QMU9xc2MvnZT",
        "colab_type": "code",
        "colab": {
          "base_uri": "https://localhost:8080/",
          "height": 120
        },
        "outputId": "f2e1914d-e45b-4a8e-91a5-a2fa69f61b73"
      },
      "source": [
        "from google.colab import drive\n",
        "drive.mount('/content/drive')"
      ],
      "execution_count": 4,
      "outputs": [
        {
          "output_type": "stream",
          "text": [
            "Go to this URL in a browser: https://accounts.google.com/o/oauth2/auth?client_id=947318989803-6bn6qk8qdgf4n4g3pfee6491hc0brc4i.apps.googleusercontent.com&redirect_uri=urn%3aietf%3awg%3aoauth%3a2.0%3aoob&scope=email%20https%3a%2f%2fwww.googleapis.com%2fauth%2fdocs.test%20https%3a%2f%2fwww.googleapis.com%2fauth%2fdrive%20https%3a%2f%2fwww.googleapis.com%2fauth%2fdrive.photos.readonly%20https%3a%2f%2fwww.googleapis.com%2fauth%2fpeopleapi.readonly&response_type=code\n",
            "\n",
            "Enter your authorization code:\n",
            "··········\n",
            "Mounted at /content/drive\n"
          ],
          "name": "stdout"
        }
      ]
    },
    {
      "cell_type": "code",
      "metadata": {
        "id": "v6ASOt1aVE3l",
        "colab_type": "code",
        "colab": {
          "base_uri": "https://localhost:8080/",
          "height": 34
        },
        "outputId": "387ce598-79a4-4d68-814e-343c712c12c0"
      },
      "source": [
        "!pwd"
      ],
      "execution_count": 2,
      "outputs": [
        {
          "output_type": "stream",
          "text": [
            "/content\n"
          ],
          "name": "stdout"
        }
      ]
    },
    {
      "cell_type": "code",
      "metadata": {
        "id": "COvTv284Mmcv",
        "colab_type": "code",
        "colab": {
          "base_uri": "https://localhost:8080/",
          "height": 34
        },
        "outputId": "33b9701b-571a-4f02-a488-f67c31f064e9"
      },
      "source": [
        "cd drive/My Drive"
      ],
      "execution_count": 3,
      "outputs": [
        {
          "output_type": "stream",
          "text": [
            "/content/drive/My Drive\n"
          ],
          "name": "stdout"
        }
      ]
    },
    {
      "cell_type": "code",
      "metadata": {
        "id": "kghhfVifxOqs",
        "colab_type": "code",
        "colab": {
          "base_uri": "https://localhost:8080/",
          "height": 83
        },
        "outputId": "fe661109-6143-45e7-be86-0238c3da611e"
      },
      "source": [
        "!tar -xzvf lastfm-dataset-1K.tar.gz"
      ],
      "execution_count": 23,
      "outputs": [
        {
          "output_type": "stream",
          "text": [
            "lastfm-dataset-1K/\n",
            "lastfm-dataset-1K/userid-profile.tsv\n",
            "lastfm-dataset-1K/README.txt\n",
            "lastfm-dataset-1K/userid-timestamp-artid-artname-traid-traname.tsv\n"
          ],
          "name": "stdout"
        }
      ]
    },
    {
      "cell_type": "code",
      "metadata": {
        "id": "vaNnk2VDxTCy",
        "colab_type": "code",
        "colab": {
          "base_uri": "https://localhost:8080/",
          "height": 34
        },
        "outputId": "9e512eb6-68ae-43c1-a5fd-f239bfb90f84"
      },
      "source": [
        "!ls"
      ],
      "execution_count": 1,
      "outputs": [
        {
          "output_type": "stream",
          "text": [
            "drive  sample_data\n"
          ],
          "name": "stdout"
        }
      ]
    },
    {
      "cell_type": "code",
      "metadata": {
        "id": "pXiieN4rxso-",
        "colab_type": "code",
        "colab": {}
      },
      "source": [
        "filename1 = \"lastfm-dataset-1K/userid-profile.tsv\"\n",
        "filename2 = \"lastfm-dataset-1K/userid-timestamp-artid-artname-traid-traname.tsv\""
      ],
      "execution_count": 4,
      "outputs": []
    },
    {
      "cell_type": "code",
      "metadata": {
        "id": "-JihX8oP7ZrI",
        "colab_type": "code",
        "colab": {
          "base_uri": "https://localhost:8080/",
          "height": 201
        },
        "outputId": "8640f2c8-fc7d-4a84-9a85-46fde6fa2b52"
      },
      "source": [
        "df1 = pd.read_csv(filename1, sep='\\t')\n",
        "df1.head()"
      ],
      "execution_count": 6,
      "outputs": [
        {
          "output_type": "execute_result",
          "data": {
            "text/html": [
              "<div>\n",
              "<style scoped>\n",
              "    .dataframe tbody tr th:only-of-type {\n",
              "        vertical-align: middle;\n",
              "    }\n",
              "\n",
              "    .dataframe tbody tr th {\n",
              "        vertical-align: top;\n",
              "    }\n",
              "\n",
              "    .dataframe thead th {\n",
              "        text-align: right;\n",
              "    }\n",
              "</style>\n",
              "<table border=\"1\" class=\"dataframe\">\n",
              "  <thead>\n",
              "    <tr style=\"text-align: right;\">\n",
              "      <th></th>\n",
              "      <th>#id</th>\n",
              "      <th>gender</th>\n",
              "      <th>age</th>\n",
              "      <th>country</th>\n",
              "      <th>registered</th>\n",
              "    </tr>\n",
              "  </thead>\n",
              "  <tbody>\n",
              "    <tr>\n",
              "      <th>0</th>\n",
              "      <td>user_000001</td>\n",
              "      <td>m</td>\n",
              "      <td>NaN</td>\n",
              "      <td>Japan</td>\n",
              "      <td>Aug 13, 2006</td>\n",
              "    </tr>\n",
              "    <tr>\n",
              "      <th>1</th>\n",
              "      <td>user_000002</td>\n",
              "      <td>f</td>\n",
              "      <td>NaN</td>\n",
              "      <td>Peru</td>\n",
              "      <td>Feb 24, 2006</td>\n",
              "    </tr>\n",
              "    <tr>\n",
              "      <th>2</th>\n",
              "      <td>user_000003</td>\n",
              "      <td>m</td>\n",
              "      <td>22.0</td>\n",
              "      <td>United States</td>\n",
              "      <td>Oct 30, 2005</td>\n",
              "    </tr>\n",
              "    <tr>\n",
              "      <th>3</th>\n",
              "      <td>user_000004</td>\n",
              "      <td>f</td>\n",
              "      <td>NaN</td>\n",
              "      <td>NaN</td>\n",
              "      <td>Apr 26, 2006</td>\n",
              "    </tr>\n",
              "    <tr>\n",
              "      <th>4</th>\n",
              "      <td>user_000005</td>\n",
              "      <td>m</td>\n",
              "      <td>NaN</td>\n",
              "      <td>Bulgaria</td>\n",
              "      <td>Jun 29, 2006</td>\n",
              "    </tr>\n",
              "  </tbody>\n",
              "</table>\n",
              "</div>"
            ],
            "text/plain": [
              "           #id gender   age        country    registered\n",
              "0  user_000001      m   NaN          Japan  Aug 13, 2006\n",
              "1  user_000002      f   NaN           Peru  Feb 24, 2006\n",
              "2  user_000003      m  22.0  United States  Oct 30, 2005\n",
              "3  user_000004      f   NaN            NaN  Apr 26, 2006\n",
              "4  user_000005      m   NaN       Bulgaria  Jun 29, 2006"
            ]
          },
          "metadata": {
            "tags": []
          },
          "execution_count": 6
        }
      ]
    },
    {
      "cell_type": "code",
      "metadata": {
        "id": "6vGqsqTHR5IM",
        "colab_type": "code",
        "colab": {}
      },
      "source": [
        "columns = [\"userid\", \"timestamp\", \"musicbrainz-artist-id\", \"artist-name\", \"musicbrainz-track-id\", \"track-name\"]\n",
        "df2 = pd.read_csv(filename2, names= columns , sep='\\t', error_bad_lines= False)"
      ],
      "execution_count": 5,
      "outputs": []
    },
    {
      "cell_type": "code",
      "metadata": {
        "id": "a0-YDcGkZDKl",
        "colab_type": "code",
        "colab": {
          "base_uri": "https://localhost:8080/",
          "height": 300
        },
        "outputId": "7d6fecb9-5960-43c4-c88c-9e8e415df4d3"
      },
      "source": [
        "columns = [\"userid\", \"timestamp\", \"musicbrainz-artist-id\", \"artist-name\", \"musicbrainz-track-id\", \"track-name\"]\n",
        "df2 = pd.read_csv(filename2, names= columns , sep='\\t', error_bad_lines= False)\n",
        "#df2.head()"
      ],
      "execution_count": 6,
      "outputs": [
        {
          "output_type": "execute_result",
          "data": {
            "text/html": [
              "<div>\n",
              "<style scoped>\n",
              "    .dataframe tbody tr th:only-of-type {\n",
              "        vertical-align: middle;\n",
              "    }\n",
              "\n",
              "    .dataframe tbody tr th {\n",
              "        vertical-align: top;\n",
              "    }\n",
              "\n",
              "    .dataframe thead th {\n",
              "        text-align: right;\n",
              "    }\n",
              "</style>\n",
              "<table border=\"1\" class=\"dataframe\">\n",
              "  <thead>\n",
              "    <tr style=\"text-align: right;\">\n",
              "      <th></th>\n",
              "      <th>userid</th>\n",
              "      <th>timestamp</th>\n",
              "      <th>musicbrainz-artist-id</th>\n",
              "      <th>artist-name</th>\n",
              "      <th>musicbrainz-track-id</th>\n",
              "      <th>track-name</th>\n",
              "    </tr>\n",
              "  </thead>\n",
              "  <tbody>\n",
              "    <tr>\n",
              "      <th>0</th>\n",
              "      <td>user_000001</td>\n",
              "      <td>2009-05-04T23:08:57Z</td>\n",
              "      <td>f1b1cf71-bd35-4e99-8624-24a6e15f133a</td>\n",
              "      <td>Deep Dish</td>\n",
              "      <td>NaN</td>\n",
              "      <td>Fuck Me Im Famous (Pacha Ibiza)-09-28-2007</td>\n",
              "    </tr>\n",
              "    <tr>\n",
              "      <th>1</th>\n",
              "      <td>user_000001</td>\n",
              "      <td>2009-05-04T13:54:10Z</td>\n",
              "      <td>a7f7df4a-77d8-4f12-8acd-5c60c93f4de8</td>\n",
              "      <td>坂本龍一</td>\n",
              "      <td>NaN</td>\n",
              "      <td>Composition 0919 (Live_2009_4_15)</td>\n",
              "    </tr>\n",
              "    <tr>\n",
              "      <th>2</th>\n",
              "      <td>user_000001</td>\n",
              "      <td>2009-05-04T13:52:04Z</td>\n",
              "      <td>a7f7df4a-77d8-4f12-8acd-5c60c93f4de8</td>\n",
              "      <td>坂本龍一</td>\n",
              "      <td>NaN</td>\n",
              "      <td>Mc2 (Live_2009_4_15)</td>\n",
              "    </tr>\n",
              "    <tr>\n",
              "      <th>3</th>\n",
              "      <td>user_000001</td>\n",
              "      <td>2009-05-04T13:42:52Z</td>\n",
              "      <td>a7f7df4a-77d8-4f12-8acd-5c60c93f4de8</td>\n",
              "      <td>坂本龍一</td>\n",
              "      <td>NaN</td>\n",
              "      <td>Hibari (Live_2009_4_15)</td>\n",
              "    </tr>\n",
              "    <tr>\n",
              "      <th>4</th>\n",
              "      <td>user_000001</td>\n",
              "      <td>2009-05-04T13:42:11Z</td>\n",
              "      <td>a7f7df4a-77d8-4f12-8acd-5c60c93f4de8</td>\n",
              "      <td>坂本龍一</td>\n",
              "      <td>NaN</td>\n",
              "      <td>Mc1 (Live_2009_4_15)</td>\n",
              "    </tr>\n",
              "  </tbody>\n",
              "</table>\n",
              "</div>"
            ],
            "text/plain": [
              "        userid  ...                                  track-name\n",
              "0  user_000001  ...  Fuck Me Im Famous (Pacha Ibiza)-09-28-2007\n",
              "1  user_000001  ...           Composition 0919 (Live_2009_4_15)\n",
              "2  user_000001  ...                        Mc2 (Live_2009_4_15)\n",
              "3  user_000001  ...                     Hibari (Live_2009_4_15)\n",
              "4  user_000001  ...                        Mc1 (Live_2009_4_15)\n",
              "\n",
              "[5 rows x 6 columns]"
            ]
          },
          "metadata": {
            "tags": []
          },
          "execution_count": 6
        }
      ]
    },
    {
      "cell_type": "code",
      "metadata": {
        "id": "hzB2SPEvbKhy",
        "colab_type": "code",
        "colab": {
          "base_uri": "https://localhost:8080/",
          "height": 34
        },
        "outputId": "605539b7-9e30-4ead-d152-5877b3de1a03"
      },
      "source": [
        "df1.shape, df2.shape"
      ],
      "execution_count": 9,
      "outputs": [
        {
          "output_type": "execute_result",
          "data": {
            "text/plain": [
              "((992, 5), (19098862, 6))"
            ]
          },
          "metadata": {
            "tags": []
          },
          "execution_count": 9
        }
      ]
    },
    {
      "cell_type": "code",
      "metadata": {
        "id": "kSRqPfyBx5OV",
        "colab_type": "code",
        "colab": {
          "base_uri": "https://localhost:8080/",
          "height": 530
        },
        "outputId": "40b97cff-68a3-41dc-a002-1eecaf3586a7"
      },
      "source": [
        "print(\"Users' profile\\n\")\n",
        "df1.info(), print(\"\\nMain data\\n\"), df2.info()"
      ],
      "execution_count": 10,
      "outputs": [
        {
          "output_type": "stream",
          "text": [
            "Users' profile\n",
            "\n",
            "<class 'pandas.core.frame.DataFrame'>\n",
            "RangeIndex: 992 entries, 0 to 991\n",
            "Data columns (total 5 columns):\n",
            " #   Column      Non-Null Count  Dtype  \n",
            "---  ------      --------------  -----  \n",
            " 0   #id         992 non-null    object \n",
            " 1   gender      884 non-null    object \n",
            " 2   age         286 non-null    float64\n",
            " 3   country     907 non-null    object \n",
            " 4   registered  984 non-null    object \n",
            "dtypes: float64(1), object(4)\n",
            "memory usage: 38.9+ KB\n",
            "\n",
            "Main data\n",
            "\n",
            "<class 'pandas.core.frame.DataFrame'>\n",
            "RangeIndex: 19098862 entries, 0 to 19098861\n",
            "Data columns (total 6 columns):\n",
            " #   Column                 Dtype \n",
            "---  ------                 ----- \n",
            " 0   userid                 object\n",
            " 1   timestamp              object\n",
            " 2   musicbrainz-artist-id  object\n",
            " 3   artist-name            object\n",
            " 4   musicbrainz-track-id   object\n",
            " 5   track-name             object\n",
            "dtypes: object(6)\n",
            "memory usage: 874.3+ MB\n"
          ],
          "name": "stdout"
        },
        {
          "output_type": "execute_result",
          "data": {
            "text/plain": [
              "(None, None, None)"
            ]
          },
          "metadata": {
            "tags": []
          },
          "execution_count": 10
        }
      ]
    },
    {
      "cell_type": "code",
      "metadata": {
        "id": "K0FsmRPNx9m5",
        "colab_type": "code",
        "colab": {
          "base_uri": "https://localhost:8080/",
          "height": 133
        },
        "outputId": "a46a072c-f36c-464c-8aa1-980d8851423a"
      },
      "source": [
        "df2.isna().sum().sort_values(ascending = False)"
      ],
      "execution_count": 11,
      "outputs": [
        {
          "output_type": "execute_result",
          "data": {
            "text/plain": [
              "musicbrainz-track-id     2162726\n",
              "musicbrainz-artist-id     600853\n",
              "track-name                    12\n",
              "artist-name                    0\n",
              "timestamp                      0\n",
              "userid                         0\n",
              "dtype: int64"
            ]
          },
          "metadata": {
            "tags": []
          },
          "execution_count": 11
        }
      ]
    },
    {
      "cell_type": "code",
      "metadata": {
        "id": "qz_HDAPCYHzL",
        "colab_type": "code",
        "colab": {}
      },
      "source": [
        "df2.timestamp = pd.to_datetime(df2.timestamp)"
      ],
      "execution_count": 6,
      "outputs": []
    },
    {
      "cell_type": "code",
      "metadata": {
        "id": "ojw88slcpbsm",
        "colab_type": "code",
        "colab": {}
      },
      "source": [
        "df2 = df2[[\"userid\",\"timestamp\", \"musicbrainz-artist-id\"]]"
      ],
      "execution_count": 7,
      "outputs": []
    },
    {
      "cell_type": "code",
      "metadata": {
        "id": "yUwmsA9Up0YS",
        "colab_type": "code",
        "colab": {
          "base_uri": "https://localhost:8080/",
          "height": 201
        },
        "outputId": "039489c2-31de-4893-d0e8-adbf657efdcc"
      },
      "source": [
        "df2.head()"
      ],
      "execution_count": 75,
      "outputs": [
        {
          "output_type": "execute_result",
          "data": {
            "text/html": [
              "<div>\n",
              "<style scoped>\n",
              "    .dataframe tbody tr th:only-of-type {\n",
              "        vertical-align: middle;\n",
              "    }\n",
              "\n",
              "    .dataframe tbody tr th {\n",
              "        vertical-align: top;\n",
              "    }\n",
              "\n",
              "    .dataframe thead th {\n",
              "        text-align: right;\n",
              "    }\n",
              "</style>\n",
              "<table border=\"1\" class=\"dataframe\">\n",
              "  <thead>\n",
              "    <tr style=\"text-align: right;\">\n",
              "      <th></th>\n",
              "      <th>userid</th>\n",
              "      <th>timestamp</th>\n",
              "    </tr>\n",
              "  </thead>\n",
              "  <tbody>\n",
              "    <tr>\n",
              "      <th>0</th>\n",
              "      <td>user_000001</td>\n",
              "      <td>2009-05-04 23:08:57+00:00</td>\n",
              "    </tr>\n",
              "    <tr>\n",
              "      <th>1</th>\n",
              "      <td>user_000001</td>\n",
              "      <td>2009-05-04 13:54:10+00:00</td>\n",
              "    </tr>\n",
              "    <tr>\n",
              "      <th>2</th>\n",
              "      <td>user_000001</td>\n",
              "      <td>2009-05-04 13:52:04+00:00</td>\n",
              "    </tr>\n",
              "    <tr>\n",
              "      <th>3</th>\n",
              "      <td>user_000001</td>\n",
              "      <td>2009-05-04 13:42:52+00:00</td>\n",
              "    </tr>\n",
              "    <tr>\n",
              "      <th>4</th>\n",
              "      <td>user_000001</td>\n",
              "      <td>2009-05-04 13:42:11+00:00</td>\n",
              "    </tr>\n",
              "  </tbody>\n",
              "</table>\n",
              "</div>"
            ],
            "text/plain": [
              "        userid                 timestamp\n",
              "0  user_000001 2009-05-04 23:08:57+00:00\n",
              "1  user_000001 2009-05-04 13:54:10+00:00\n",
              "2  user_000001 2009-05-04 13:52:04+00:00\n",
              "3  user_000001 2009-05-04 13:42:52+00:00\n",
              "4  user_000001 2009-05-04 13:42:11+00:00"
            ]
          },
          "metadata": {
            "tags": []
          },
          "execution_count": 75
        }
      ]
    },
    {
      "cell_type": "code",
      "metadata": {
        "id": "exfcM4gwp29T",
        "colab_type": "code",
        "colab": {
          "base_uri": "https://localhost:8080/",
          "height": 160
        },
        "outputId": "3ad5efa5-0e4f-43ee-b791-f423e9324c73"
      },
      "source": [
        "df2.isnull().sum()"
      ],
      "execution_count": 1,
      "outputs": [
        {
          "output_type": "error",
          "ename": "NameError",
          "evalue": "ignored",
          "traceback": [
            "\u001b[0;31m---------------------------------------------------------------------------\u001b[0m",
            "\u001b[0;31mNameError\u001b[0m                                 Traceback (most recent call last)",
            "\u001b[0;32m<ipython-input-1-7469d1d99ec7>\u001b[0m in \u001b[0;36m<module>\u001b[0;34m()\u001b[0m\n\u001b[0;32m----> 1\u001b[0;31m \u001b[0mdf2\u001b[0m\u001b[0;34m.\u001b[0m\u001b[0misnull\u001b[0m\u001b[0;34m(\u001b[0m\u001b[0;34m)\u001b[0m\u001b[0;34m.\u001b[0m\u001b[0msum\u001b[0m\u001b[0;34m(\u001b[0m\u001b[0;34m)\u001b[0m\u001b[0;34m\u001b[0m\u001b[0;34m\u001b[0m\u001b[0m\n\u001b[0m",
            "\u001b[0;31mNameError\u001b[0m: name 'df2' is not defined"
          ]
        }
      ]
    },
    {
      "cell_type": "code",
      "metadata": {
        "id": "i6ZaEM8Ap-cz",
        "colab_type": "code",
        "colab": {}
      },
      "source": [
        "df2.columns = [[\"userid\",\"time\"]]"
      ],
      "execution_count": 8,
      "outputs": []
    },
    {
      "cell_type": "code",
      "metadata": {
        "id": "EwSc_3lLqJ4K",
        "colab_type": "code",
        "colab": {
          "base_uri": "https://localhost:8080/",
          "height": 67
        },
        "outputId": "3e4a2d4f-a883-485d-9ac4-f499128eea6d"
      },
      "source": [
        "df2.dtypes"
      ],
      "execution_count": 104,
      "outputs": [
        {
          "output_type": "execute_result",
          "data": {
            "text/plain": [
              "userid                 object\n",
              "time      datetime64[ns, UTC]\n",
              "dtype: object"
            ]
          },
          "metadata": {
            "tags": []
          },
          "execution_count": 104
        }
      ]
    },
    {
      "cell_type": "code",
      "metadata": {
        "id": "VX3cCNo5qN4b",
        "colab_type": "code",
        "colab": {
          "base_uri": "https://localhost:8080/",
          "height": 201
        },
        "outputId": "5a37d7eb-7830-40aa-a4ed-41ead3fa455b"
      },
      "source": [
        "df2.head()"
      ],
      "execution_count": 14,
      "outputs": [
        {
          "output_type": "execute_result",
          "data": {
            "text/html": [
              "<div>\n",
              "<style scoped>\n",
              "    .dataframe tbody tr th:only-of-type {\n",
              "        vertical-align: middle;\n",
              "    }\n",
              "\n",
              "    .dataframe tbody tr th {\n",
              "        vertical-align: top;\n",
              "    }\n",
              "\n",
              "    .dataframe thead tr th {\n",
              "        text-align: left;\n",
              "    }\n",
              "</style>\n",
              "<table border=\"1\" class=\"dataframe\">\n",
              "  <thead>\n",
              "    <tr>\n",
              "      <th></th>\n",
              "      <th>userid</th>\n",
              "      <th>time</th>\n",
              "    </tr>\n",
              "  </thead>\n",
              "  <tbody>\n",
              "    <tr>\n",
              "      <th>0</th>\n",
              "      <td>user_000001</td>\n",
              "      <td>2009-05-04 23:08:57+00:00</td>\n",
              "    </tr>\n",
              "    <tr>\n",
              "      <th>1</th>\n",
              "      <td>user_000001</td>\n",
              "      <td>2009-05-04 13:54:10+00:00</td>\n",
              "    </tr>\n",
              "    <tr>\n",
              "      <th>2</th>\n",
              "      <td>user_000001</td>\n",
              "      <td>2009-05-04 13:52:04+00:00</td>\n",
              "    </tr>\n",
              "    <tr>\n",
              "      <th>3</th>\n",
              "      <td>user_000001</td>\n",
              "      <td>2009-05-04 13:42:52+00:00</td>\n",
              "    </tr>\n",
              "    <tr>\n",
              "      <th>4</th>\n",
              "      <td>user_000001</td>\n",
              "      <td>2009-05-04 13:42:11+00:00</td>\n",
              "    </tr>\n",
              "  </tbody>\n",
              "</table>\n",
              "</div>"
            ],
            "text/plain": [
              "        userid                      time\n",
              "0  user_000001 2009-05-04 23:08:57+00:00\n",
              "1  user_000001 2009-05-04 13:54:10+00:00\n",
              "2  user_000001 2009-05-04 13:52:04+00:00\n",
              "3  user_000001 2009-05-04 13:42:52+00:00\n",
              "4  user_000001 2009-05-04 13:42:11+00:00"
            ]
          },
          "metadata": {
            "tags": []
          },
          "execution_count": 14
        }
      ]
    },
    {
      "cell_type": "code",
      "metadata": {
        "id": "61OvwTtAG-_g",
        "colab_type": "code",
        "colab": {}
      },
      "source": [
        "pd.set_option('display.max_columns', None)\n",
        "pd.set_option('display.max_rows', None)"
      ],
      "execution_count": 11,
      "outputs": []
    },
    {
      "cell_type": "code",
      "metadata": {
        "id": "6_GjmAj37hwh",
        "colab_type": "code",
        "colab": {}
      },
      "source": [
        "df2 = df2.sort_values([\"timestamp\",\"userid\"], ascending = False)"
      ],
      "execution_count": 8,
      "outputs": []
    },
    {
      "cell_type": "code",
      "metadata": {
        "id": "gXGc9UJCbN8V",
        "colab_type": "code",
        "colab": {
          "base_uri": "https://localhost:8080/",
          "height": 83
        },
        "outputId": "352f888f-1d8c-490c-91d8-a5d4a457b3ab"
      },
      "source": [
        "df2.isnull().sum()"
      ],
      "execution_count": 14,
      "outputs": [
        {
          "output_type": "execute_result",
          "data": {
            "text/plain": [
              "userid                        0\n",
              "timestamp                     0\n",
              "musicbrainz-artist-id    600853\n",
              "dtype: int64"
            ]
          },
          "metadata": {
            "tags": []
          },
          "execution_count": 14
        }
      ]
    },
    {
      "cell_type": "code",
      "metadata": {
        "id": "2eDYi1UMWWU-",
        "colab_type": "code",
        "colab": {
          "base_uri": "https://localhost:8080/",
          "height": 1000
        },
        "outputId": "620296a1-da23-4764-8d5d-8d6e7001ff4d"
      },
      "source": [
        "df2.head(100)"
      ],
      "execution_count": 12,
      "outputs": [
        {
          "output_type": "execute_result",
          "data": {
            "text/html": [
              "<div>\n",
              "<style scoped>\n",
              "    .dataframe tbody tr th:only-of-type {\n",
              "        vertical-align: middle;\n",
              "    }\n",
              "\n",
              "    .dataframe tbody tr th {\n",
              "        vertical-align: top;\n",
              "    }\n",
              "\n",
              "    .dataframe thead th {\n",
              "        text-align: right;\n",
              "    }\n",
              "</style>\n",
              "<table border=\"1\" class=\"dataframe\">\n",
              "  <thead>\n",
              "    <tr style=\"text-align: right;\">\n",
              "      <th></th>\n",
              "      <th>userid</th>\n",
              "      <th>timestamp</th>\n",
              "      <th>musicbrainz-artist-id</th>\n",
              "    </tr>\n",
              "  </thead>\n",
              "  <tbody>\n",
              "    <tr>\n",
              "      <th>14293413</th>\n",
              "      <td>user_000762</td>\n",
              "      <td>2013-09-29 18:32:04+00:00</td>\n",
              "      <td>d8354b38-e942-4c89-ba93-29323432abc3</td>\n",
              "    </tr>\n",
              "    <tr>\n",
              "      <th>7696486</th>\n",
              "      <td>user_000405</td>\n",
              "      <td>2010-08-13 23:06:38+00:00</td>\n",
              "      <td>5f572b31-8fd9-45ae-9beb-358c98d839df</td>\n",
              "    </tr>\n",
              "    <tr>\n",
              "      <th>12032174</th>\n",
              "      <td>user_000651</td>\n",
              "      <td>2009-06-19 21:31:16+00:00</td>\n",
              "      <td>c43c7134-5d6f-4bfa-8275-b4012ae97c46</td>\n",
              "    </tr>\n",
              "    <tr>\n",
              "      <th>18453019</th>\n",
              "      <td>user_000960</td>\n",
              "      <td>2009-06-19 21:27:08+00:00</td>\n",
              "      <td>5cbef01b-cc35-4f52-af7b-d0df0c4f61b9</td>\n",
              "    </tr>\n",
              "    <tr>\n",
              "      <th>18453020</th>\n",
              "      <td>user_000960</td>\n",
              "      <td>2009-06-19 21:23:17+00:00</td>\n",
              "      <td>0039c7ae-e1a7-4a7d-9b49-0cbc716821a6</td>\n",
              "    </tr>\n",
              "    <tr>\n",
              "      <th>18453021</th>\n",
              "      <td>user_000960</td>\n",
              "      <td>2009-06-19 21:20:24+00:00</td>\n",
              "      <td>3f542031-b054-454d-b57b-812fa2a81b11</td>\n",
              "    </tr>\n",
              "    <tr>\n",
              "      <th>18453022</th>\n",
              "      <td>user_000960</td>\n",
              "      <td>2009-06-19 21:18:26+00:00</td>\n",
              "      <td>09037f07-42bc-46ac-a1ee-37f834451fee</td>\n",
              "    </tr>\n",
              "    <tr>\n",
              "      <th>18453023</th>\n",
              "      <td>user_000960</td>\n",
              "      <td>2009-06-19 21:14:32+00:00</td>\n",
              "      <td>db9d25d7-a85b-4a29-b2ff-8f5b69ed691e</td>\n",
              "    </tr>\n",
              "    <tr>\n",
              "      <th>18453024</th>\n",
              "      <td>user_000960</td>\n",
              "      <td>2009-06-19 21:09:33+00:00</td>\n",
              "      <td>20883363-1ea4-4d72-ad72-c0e767038f3e</td>\n",
              "    </tr>\n",
              "    <tr>\n",
              "      <th>18453025</th>\n",
              "      <td>user_000960</td>\n",
              "      <td>2009-06-19 21:06:11+00:00</td>\n",
              "      <td>NaN</td>\n",
              "    </tr>\n",
              "    <tr>\n",
              "      <th>18453026</th>\n",
              "      <td>user_000960</td>\n",
              "      <td>2009-06-19 21:00:06+00:00</td>\n",
              "      <td>9a58fda3-f4ed-4080-a3a5-f457aac9fcdd</td>\n",
              "    </tr>\n",
              "    <tr>\n",
              "      <th>18453027</th>\n",
              "      <td>user_000960</td>\n",
              "      <td>2009-06-19 20:55:51+00:00</td>\n",
              "      <td>299278d3-25dd-4f30-bae4-5b571c28034d</td>\n",
              "    </tr>\n",
              "    <tr>\n",
              "      <th>16342475</th>\n",
              "      <td>user_000842</td>\n",
              "      <td>2009-06-19 20:55:45+00:00</td>\n",
              "      <td>f91e3a88-24ee-4563-8963-fab73d2765ed</td>\n",
              "    </tr>\n",
              "    <tr>\n",
              "      <th>18453028</th>\n",
              "      <td>user_000960</td>\n",
              "      <td>2009-06-19 20:51:53+00:00</td>\n",
              "      <td>28b2fb52-a83a-40ec-8617-6436e26eb3fd</td>\n",
              "    </tr>\n",
              "    <tr>\n",
              "      <th>13743098</th>\n",
              "      <td>user_000724</td>\n",
              "      <td>2009-06-19 20:50:23+00:00</td>\n",
              "      <td>f91e3a88-24ee-4563-8963-fab73d2765ed</td>\n",
              "    </tr>\n",
              "    <tr>\n",
              "      <th>18453029</th>\n",
              "      <td>user_000960</td>\n",
              "      <td>2009-06-19 20:43:18+00:00</td>\n",
              "      <td>0039c7ae-e1a7-4a7d-9b49-0cbc716821a6</td>\n",
              "    </tr>\n",
              "    <tr>\n",
              "      <th>13743099</th>\n",
              "      <td>user_000724</td>\n",
              "      <td>2009-06-19 20:42:49+00:00</td>\n",
              "      <td>f91e3a88-24ee-4563-8963-fab73d2765ed</td>\n",
              "    </tr>\n",
              "    <tr>\n",
              "      <th>18453030</th>\n",
              "      <td>user_000960</td>\n",
              "      <td>2009-06-19 20:40:16+00:00</td>\n",
              "      <td>0c751690-c784-4a4f-b1e4-c1de27d47581</td>\n",
              "    </tr>\n",
              "    <tr>\n",
              "      <th>18453031</th>\n",
              "      <td>user_000960</td>\n",
              "      <td>2009-06-19 20:35:33+00:00</td>\n",
              "      <td>299278d3-25dd-4f30-bae4-5b571c28034d</td>\n",
              "    </tr>\n",
              "    <tr>\n",
              "      <th>12016338</th>\n",
              "      <td>user_000650</td>\n",
              "      <td>2009-06-19 20:34:15+00:00</td>\n",
              "      <td>cd84f520-7cd7-4e47-8cab-7beeceec3210</td>\n",
              "    </tr>\n",
              "    <tr>\n",
              "      <th>18453032</th>\n",
              "      <td>user_000960</td>\n",
              "      <td>2009-06-19 20:32:50+00:00</td>\n",
              "      <td>3f542031-b054-454d-b57b-812fa2a81b11</td>\n",
              "    </tr>\n",
              "    <tr>\n",
              "      <th>12032175</th>\n",
              "      <td>user_000651</td>\n",
              "      <td>2009-06-19 20:31:06+00:00</td>\n",
              "      <td>36173039-4adf-4a25-920f-ba5bdda5df63</td>\n",
              "    </tr>\n",
              "    <tr>\n",
              "      <th>12032176</th>\n",
              "      <td>user_000651</td>\n",
              "      <td>2009-06-19 20:30:32+00:00</td>\n",
              "      <td>36173039-4adf-4a25-920f-ba5bdda5df63</td>\n",
              "    </tr>\n",
              "    <tr>\n",
              "      <th>18453033</th>\n",
              "      <td>user_000960</td>\n",
              "      <td>2009-06-19 20:28:31+00:00</td>\n",
              "      <td>b23e8a63-8f47-4882-b55b-df2c92ef400e</td>\n",
              "    </tr>\n",
              "    <tr>\n",
              "      <th>18453034</th>\n",
              "      <td>user_000960</td>\n",
              "      <td>2009-06-19 20:27:37+00:00</td>\n",
              "      <td>d4ad0149-d8ae-4105-8009-0221fce9ff35</td>\n",
              "    </tr>\n",
              "    <tr>\n",
              "      <th>12032177</th>\n",
              "      <td>user_000651</td>\n",
              "      <td>2009-06-19 20:26:37+00:00</td>\n",
              "      <td>3fdcc960-92de-49b6-9016-320aebf784c4</td>\n",
              "    </tr>\n",
              "    <tr>\n",
              "      <th>18453035</th>\n",
              "      <td>user_000960</td>\n",
              "      <td>2009-06-19 20:24:42+00:00</td>\n",
              "      <td>55a0e112-113c-40c7-9f2a-dec52ef5dc25</td>\n",
              "    </tr>\n",
              "    <tr>\n",
              "      <th>14122756</th>\n",
              "      <td>user_000751</td>\n",
              "      <td>2009-06-19 20:22:22+00:00</td>\n",
              "      <td>b3bc168f-24f6-4c46-b901-2c491c0a7abf</td>\n",
              "    </tr>\n",
              "    <tr>\n",
              "      <th>12032178</th>\n",
              "      <td>user_000651</td>\n",
              "      <td>2009-06-19 20:22:22+00:00</td>\n",
              "      <td>b3bc168f-24f6-4c46-b901-2c491c0a7abf</td>\n",
              "    </tr>\n",
              "    <tr>\n",
              "      <th>18453036</th>\n",
              "      <td>user_000960</td>\n",
              "      <td>2009-06-19 20:21:11+00:00</td>\n",
              "      <td>0039c7ae-e1a7-4a7d-9b49-0cbc716821a6</td>\n",
              "    </tr>\n",
              "    <tr>\n",
              "      <th>12032179</th>\n",
              "      <td>user_000651</td>\n",
              "      <td>2009-06-19 20:18:39+00:00</td>\n",
              "      <td>650e7db6-b795-4eb5-a702-5ea2fc46c848</td>\n",
              "    </tr>\n",
              "    <tr>\n",
              "      <th>18453037</th>\n",
              "      <td>user_000960</td>\n",
              "      <td>2009-06-19 20:17:59+00:00</td>\n",
              "      <td>6c8b9855-ba8b-48f9-ac1d-42167f7f7b18</td>\n",
              "    </tr>\n",
              "    <tr>\n",
              "      <th>18453038</th>\n",
              "      <td>user_000960</td>\n",
              "      <td>2009-06-19 20:14:45+00:00</td>\n",
              "      <td>87c5dedd-371d-4a53-9f7f-80522fb7f3cb</td>\n",
              "    </tr>\n",
              "    <tr>\n",
              "      <th>12032180</th>\n",
              "      <td>user_000651</td>\n",
              "      <td>2009-06-19 20:14:21+00:00</td>\n",
              "      <td>e14ec652-6d81-4511-a697-f3bc700d2954</td>\n",
              "    </tr>\n",
              "    <tr>\n",
              "      <th>12032181</th>\n",
              "      <td>user_000651</td>\n",
              "      <td>2009-06-19 20:09:56+00:00</td>\n",
              "      <td>6f92929a-6381-48ac-b348-83b43b9cf646</td>\n",
              "    </tr>\n",
              "    <tr>\n",
              "      <th>18453039</th>\n",
              "      <td>user_000960</td>\n",
              "      <td>2009-06-19 20:06:45+00:00</td>\n",
              "      <td>3bcff06f-675a-451f-9075-99e8657047e8</td>\n",
              "    </tr>\n",
              "    <tr>\n",
              "      <th>12032182</th>\n",
              "      <td>user_000651</td>\n",
              "      <td>2009-06-19 20:06:39+00:00</td>\n",
              "      <td>6f92929a-6381-48ac-b348-83b43b9cf646</td>\n",
              "    </tr>\n",
              "    <tr>\n",
              "      <th>18453040</th>\n",
              "      <td>user_000960</td>\n",
              "      <td>2009-06-19 20:02:43+00:00</td>\n",
              "      <td>60feda7a-9247-48fe-8892-79f9a7d0d503</td>\n",
              "    </tr>\n",
              "    <tr>\n",
              "      <th>12032183</th>\n",
              "      <td>user_000651</td>\n",
              "      <td>2009-06-19 20:02:23+00:00</td>\n",
              "      <td>34445610-12bc-4f4a-b88f-03b23b532f04</td>\n",
              "    </tr>\n",
              "    <tr>\n",
              "      <th>12032184</th>\n",
              "      <td>user_000651</td>\n",
              "      <td>2009-06-19 19:55:05+00:00</td>\n",
              "      <td>c373c5ac-f35c-4498-8b21-c261edc78d4c</td>\n",
              "    </tr>\n",
              "    <tr>\n",
              "      <th>18453041</th>\n",
              "      <td>user_000960</td>\n",
              "      <td>2009-06-19 19:53:20+00:00</td>\n",
              "      <td>b23e8a63-8f47-4882-b55b-df2c92ef400e</td>\n",
              "    </tr>\n",
              "    <tr>\n",
              "      <th>12032185</th>\n",
              "      <td>user_000651</td>\n",
              "      <td>2009-06-19 19:51:55+00:00</td>\n",
              "      <td>6f92929a-6381-48ac-b348-83b43b9cf646</td>\n",
              "    </tr>\n",
              "    <tr>\n",
              "      <th>12032186</th>\n",
              "      <td>user_000651</td>\n",
              "      <td>2009-06-19 19:48:39+00:00</td>\n",
              "      <td>6f92929a-6381-48ac-b348-83b43b9cf646</td>\n",
              "    </tr>\n",
              "    <tr>\n",
              "      <th>18453042</th>\n",
              "      <td>user_000960</td>\n",
              "      <td>2009-06-19 19:48:21+00:00</td>\n",
              "      <td>1946a82a-f927-40c2-8235-38d64f50d043</td>\n",
              "    </tr>\n",
              "    <tr>\n",
              "      <th>18453043</th>\n",
              "      <td>user_000960</td>\n",
              "      <td>2009-06-19 19:46:55+00:00</td>\n",
              "      <td>87c5dedd-371d-4a53-9f7f-80522fb7f3cb</td>\n",
              "    </tr>\n",
              "    <tr>\n",
              "      <th>18453044</th>\n",
              "      <td>user_000960</td>\n",
              "      <td>2009-06-19 19:43:24+00:00</td>\n",
              "      <td>55a0e112-113c-40c7-9f2a-dec52ef5dc25</td>\n",
              "    </tr>\n",
              "    <tr>\n",
              "      <th>12032187</th>\n",
              "      <td>user_000651</td>\n",
              "      <td>2009-06-19 19:42:28+00:00</td>\n",
              "      <td>98ba209f-b3e7-4d01-9565-2a85c22ba78e</td>\n",
              "    </tr>\n",
              "    <tr>\n",
              "      <th>12032188</th>\n",
              "      <td>user_000651</td>\n",
              "      <td>2009-06-19 19:39:48+00:00</td>\n",
              "      <td>09444b9e-f11e-4416-a376-bbf7dc6e9139</td>\n",
              "    </tr>\n",
              "    <tr>\n",
              "      <th>18453045</th>\n",
              "      <td>user_000960</td>\n",
              "      <td>2009-06-19 19:37:35+00:00</td>\n",
              "      <td>9a58fda3-f4ed-4080-a3a5-f457aac9fcdd</td>\n",
              "    </tr>\n",
              "    <tr>\n",
              "      <th>12032189</th>\n",
              "      <td>user_000651</td>\n",
              "      <td>2009-06-19 19:34:36+00:00</td>\n",
              "      <td>b3ba2385-032b-4c83-8a27-dff744a6b584</td>\n",
              "    </tr>\n",
              "    <tr>\n",
              "      <th>13743100</th>\n",
              "      <td>user_000724</td>\n",
              "      <td>2009-06-19 19:34:35+00:00</td>\n",
              "      <td>f91e3a88-24ee-4563-8963-fab73d2765ed</td>\n",
              "    </tr>\n",
              "    <tr>\n",
              "      <th>18453046</th>\n",
              "      <td>user_000960</td>\n",
              "      <td>2009-06-19 19:32:20+00:00</td>\n",
              "      <td>584c04d2-4acc-491b-8a0a-e63133f4bfc4</td>\n",
              "    </tr>\n",
              "    <tr>\n",
              "      <th>12032190</th>\n",
              "      <td>user_000651</td>\n",
              "      <td>2009-06-19 19:30:17+00:00</td>\n",
              "      <td>8fac0731-b031-429e-a34c-9a9655f16d2b</td>\n",
              "    </tr>\n",
              "    <tr>\n",
              "      <th>18453047</th>\n",
              "      <td>user_000960</td>\n",
              "      <td>2009-06-19 19:28:42+00:00</td>\n",
              "      <td>28b2fb52-a83a-40ec-8617-6436e26eb3fd</td>\n",
              "    </tr>\n",
              "    <tr>\n",
              "      <th>18453048</th>\n",
              "      <td>user_000960</td>\n",
              "      <td>2009-06-19 19:25:04+00:00</td>\n",
              "      <td>3f542031-b054-454d-b57b-812fa2a81b11</td>\n",
              "    </tr>\n",
              "    <tr>\n",
              "      <th>12032191</th>\n",
              "      <td>user_000651</td>\n",
              "      <td>2009-06-19 19:24:49+00:00</td>\n",
              "      <td>78e562c1-b19a-4f68-996e-385af280baa3</td>\n",
              "    </tr>\n",
              "    <tr>\n",
              "      <th>13743101</th>\n",
              "      <td>user_000724</td>\n",
              "      <td>2009-06-19 19:24:03+00:00</td>\n",
              "      <td>f91e3a88-24ee-4563-8963-fab73d2765ed</td>\n",
              "    </tr>\n",
              "    <tr>\n",
              "      <th>18453049</th>\n",
              "      <td>user_000960</td>\n",
              "      <td>2009-06-19 19:23:12+00:00</td>\n",
              "      <td>6c8b9855-ba8b-48f9-ac1d-42167f7f7b18</td>\n",
              "    </tr>\n",
              "    <tr>\n",
              "      <th>12032192</th>\n",
              "      <td>user_000651</td>\n",
              "      <td>2009-06-19 19:22:02+00:00</td>\n",
              "      <td>78e562c1-b19a-4f68-996e-385af280baa3</td>\n",
              "    </tr>\n",
              "    <tr>\n",
              "      <th>13743102</th>\n",
              "      <td>user_000724</td>\n",
              "      <td>2009-06-19 19:20:11+00:00</td>\n",
              "      <td>f91e3a88-24ee-4563-8963-fab73d2765ed</td>\n",
              "    </tr>\n",
              "    <tr>\n",
              "      <th>18453050</th>\n",
              "      <td>user_000960</td>\n",
              "      <td>2009-06-19 19:18:59+00:00</td>\n",
              "      <td>2f360fd9-6440-4896-9f45-8156e8b0b204</td>\n",
              "    </tr>\n",
              "    <tr>\n",
              "      <th>18453051</th>\n",
              "      <td>user_000960</td>\n",
              "      <td>2009-06-19 19:15:00+00:00</td>\n",
              "      <td>78f797e3-4913-4026-aad0-1cd858bd735b</td>\n",
              "    </tr>\n",
              "    <tr>\n",
              "      <th>13743103</th>\n",
              "      <td>user_000724</td>\n",
              "      <td>2009-06-19 19:13:14+00:00</td>\n",
              "      <td>f91e3a88-24ee-4563-8963-fab73d2765ed</td>\n",
              "    </tr>\n",
              "    <tr>\n",
              "      <th>18453052</th>\n",
              "      <td>user_000960</td>\n",
              "      <td>2009-06-19 19:11:32+00:00</td>\n",
              "      <td>ada7a83c-e3e1-40f1-93f9-3e73dbc9298a</td>\n",
              "    </tr>\n",
              "    <tr>\n",
              "      <th>12032193</th>\n",
              "      <td>user_000651</td>\n",
              "      <td>2009-06-19 19:10:11+00:00</td>\n",
              "      <td>db76c5ca-d555-4f09-b1db-baa1b713d875</td>\n",
              "    </tr>\n",
              "    <tr>\n",
              "      <th>13743104</th>\n",
              "      <td>user_000724</td>\n",
              "      <td>2009-06-19 19:08:05+00:00</td>\n",
              "      <td>f91e3a88-24ee-4563-8963-fab73d2765ed</td>\n",
              "    </tr>\n",
              "    <tr>\n",
              "      <th>18453053</th>\n",
              "      <td>user_000960</td>\n",
              "      <td>2009-06-19 19:07:11+00:00</td>\n",
              "      <td>0039c7ae-e1a7-4a7d-9b49-0cbc716821a6</td>\n",
              "    </tr>\n",
              "    <tr>\n",
              "      <th>12032194</th>\n",
              "      <td>user_000651</td>\n",
              "      <td>2009-06-19 19:06:36+00:00</td>\n",
              "      <td>31bea673-d23a-4889-8da1-7cb040863268</td>\n",
              "    </tr>\n",
              "    <tr>\n",
              "      <th>18453054</th>\n",
              "      <td>user_000960</td>\n",
              "      <td>2009-06-19 19:04:30+00:00</td>\n",
              "      <td>e132d370-2a59-4437-8610-756df28a5a02</td>\n",
              "    </tr>\n",
              "    <tr>\n",
              "      <th>12032195</th>\n",
              "      <td>user_000651</td>\n",
              "      <td>2009-06-19 19:02:59+00:00</td>\n",
              "      <td>31bea673-d23a-4889-8da1-7cb040863268</td>\n",
              "    </tr>\n",
              "    <tr>\n",
              "      <th>18453055</th>\n",
              "      <td>user_000960</td>\n",
              "      <td>2009-06-19 19:01:38+00:00</td>\n",
              "      <td>4449ccf6-c948-4d33-aa97-b6ad98ce4b5b</td>\n",
              "    </tr>\n",
              "    <tr>\n",
              "      <th>13743105</th>\n",
              "      <td>user_000724</td>\n",
              "      <td>2009-06-19 19:00:31+00:00</td>\n",
              "      <td>f91e3a88-24ee-4563-8963-fab73d2765ed</td>\n",
              "    </tr>\n",
              "    <tr>\n",
              "      <th>12032196</th>\n",
              "      <td>user_000651</td>\n",
              "      <td>2009-06-19 18:59:00+00:00</td>\n",
              "      <td>31bea673-d23a-4889-8da1-7cb040863268</td>\n",
              "    </tr>\n",
              "    <tr>\n",
              "      <th>18453056</th>\n",
              "      <td>user_000960</td>\n",
              "      <td>2009-06-19 18:58:39+00:00</td>\n",
              "      <td>397bdd61-95b9-44e1-90aa-ff27e6bc28cf</td>\n",
              "    </tr>\n",
              "    <tr>\n",
              "      <th>13743106</th>\n",
              "      <td>user_000724</td>\n",
              "      <td>2009-06-19 18:56:43+00:00</td>\n",
              "      <td>f91e3a88-24ee-4563-8963-fab73d2765ed</td>\n",
              "    </tr>\n",
              "    <tr>\n",
              "      <th>12032197</th>\n",
              "      <td>user_000651</td>\n",
              "      <td>2009-06-19 18:55:29+00:00</td>\n",
              "      <td>664a8867-2e24-4d05-9bae-de5f7b16f17b</td>\n",
              "    </tr>\n",
              "    <tr>\n",
              "      <th>18453057</th>\n",
              "      <td>user_000960</td>\n",
              "      <td>2009-06-19 18:54:42+00:00</td>\n",
              "      <td>9e53f84d-ef44-4c16-9677-5fd4d78cbd7d</td>\n",
              "    </tr>\n",
              "    <tr>\n",
              "      <th>12032198</th>\n",
              "      <td>user_000651</td>\n",
              "      <td>2009-06-19 18:52:37+00:00</td>\n",
              "      <td>664a8867-2e24-4d05-9bae-de5f7b16f17b</td>\n",
              "    </tr>\n",
              "    <tr>\n",
              "      <th>18453058</th>\n",
              "      <td>user_000960</td>\n",
              "      <td>2009-06-19 18:51:26+00:00</td>\n",
              "      <td>309c62ba-7a22-4277-9f67-4a162526d18a</td>\n",
              "    </tr>\n",
              "    <tr>\n",
              "      <th>13743107</th>\n",
              "      <td>user_000724</td>\n",
              "      <td>2009-06-19 18:51:12+00:00</td>\n",
              "      <td>f91e3a88-24ee-4563-8963-fab73d2765ed</td>\n",
              "    </tr>\n",
              "    <tr>\n",
              "      <th>12032199</th>\n",
              "      <td>user_000651</td>\n",
              "      <td>2009-06-19 18:48:23+00:00</td>\n",
              "      <td>122d63fc-8671-43e4-9752-34e846d62a9c</td>\n",
              "    </tr>\n",
              "    <tr>\n",
              "      <th>18453059</th>\n",
              "      <td>user_000960</td>\n",
              "      <td>2009-06-19 18:46:59+00:00</td>\n",
              "      <td>309c62ba-7a22-4277-9f67-4a162526d18a</td>\n",
              "    </tr>\n",
              "    <tr>\n",
              "      <th>13743108</th>\n",
              "      <td>user_000724</td>\n",
              "      <td>2009-06-19 18:46:11+00:00</td>\n",
              "      <td>f91e3a88-24ee-4563-8963-fab73d2765ed</td>\n",
              "    </tr>\n",
              "    <tr>\n",
              "      <th>12032200</th>\n",
              "      <td>user_000651</td>\n",
              "      <td>2009-06-19 18:44:28+00:00</td>\n",
              "      <td>122d63fc-8671-43e4-9752-34e846d62a9c</td>\n",
              "    </tr>\n",
              "    <tr>\n",
              "      <th>18453060</th>\n",
              "      <td>user_000960</td>\n",
              "      <td>2009-06-19 18:41:52+00:00</td>\n",
              "      <td>b2274e6d-10e8-4068-9dd2-eb55d4a144b5</td>\n",
              "    </tr>\n",
              "    <tr>\n",
              "      <th>12032201</th>\n",
              "      <td>user_000651</td>\n",
              "      <td>2009-06-19 18:41:02+00:00</td>\n",
              "      <td>693a2415-8cd3-4119-8b8f-8fc3c6a2db7a</td>\n",
              "    </tr>\n",
              "    <tr>\n",
              "      <th>13743109</th>\n",
              "      <td>user_000724</td>\n",
              "      <td>2009-06-19 18:40:08+00:00</td>\n",
              "      <td>f91e3a88-24ee-4563-8963-fab73d2765ed</td>\n",
              "    </tr>\n",
              "    <tr>\n",
              "      <th>18453061</th>\n",
              "      <td>user_000960</td>\n",
              "      <td>2009-06-19 18:37:55+00:00</td>\n",
              "      <td>6c8b9855-ba8b-48f9-ac1d-42167f7f7b18</td>\n",
              "    </tr>\n",
              "    <tr>\n",
              "      <th>12032202</th>\n",
              "      <td>user_000651</td>\n",
              "      <td>2009-06-19 18:37:49+00:00</td>\n",
              "      <td>693a2415-8cd3-4119-8b8f-8fc3c6a2db7a</td>\n",
              "    </tr>\n",
              "    <tr>\n",
              "      <th>18453062</th>\n",
              "      <td>user_000960</td>\n",
              "      <td>2009-06-19 18:34:22+00:00</td>\n",
              "      <td>25b75a66-ce83-4db3-b136-395a3c3784c4</td>\n",
              "    </tr>\n",
              "    <tr>\n",
              "      <th>13743110</th>\n",
              "      <td>user_000724</td>\n",
              "      <td>2009-06-19 18:32:02+00:00</td>\n",
              "      <td>f91e3a88-24ee-4563-8963-fab73d2765ed</td>\n",
              "    </tr>\n",
              "    <tr>\n",
              "      <th>18453063</th>\n",
              "      <td>user_000960</td>\n",
              "      <td>2009-06-19 18:30:32+00:00</td>\n",
              "      <td>0039c7ae-e1a7-4a7d-9b49-0cbc716821a6</td>\n",
              "    </tr>\n",
              "    <tr>\n",
              "      <th>13743111</th>\n",
              "      <td>user_000724</td>\n",
              "      <td>2009-06-19 18:27:12+00:00</td>\n",
              "      <td>f91e3a88-24ee-4563-8963-fab73d2765ed</td>\n",
              "    </tr>\n",
              "    <tr>\n",
              "      <th>18453064</th>\n",
              "      <td>user_000960</td>\n",
              "      <td>2009-06-19 18:25:15+00:00</td>\n",
              "      <td>9e53f84d-ef44-4c16-9677-5fd4d78cbd7d</td>\n",
              "    </tr>\n",
              "    <tr>\n",
              "      <th>18453065</th>\n",
              "      <td>user_000960</td>\n",
              "      <td>2009-06-19 18:21:11+00:00</td>\n",
              "      <td>a506f761-2c22-4b2f-8a94-bd748c2c8f75</td>\n",
              "    </tr>\n",
              "    <tr>\n",
              "      <th>18453066</th>\n",
              "      <td>user_000960</td>\n",
              "      <td>2009-06-19 18:20:17+00:00</td>\n",
              "      <td>09037f07-42bc-46ac-a1ee-37f834451fee</td>\n",
              "    </tr>\n",
              "    <tr>\n",
              "      <th>13743112</th>\n",
              "      <td>user_000724</td>\n",
              "      <td>2009-06-19 18:17:53+00:00</td>\n",
              "      <td>f91e3a88-24ee-4563-8963-fab73d2765ed</td>\n",
              "    </tr>\n",
              "    <tr>\n",
              "      <th>18453067</th>\n",
              "      <td>user_000960</td>\n",
              "      <td>2009-06-19 18:15:37+00:00</td>\n",
              "      <td>b9a2a9a6-7a40-48a6-bcb1-8eff5b89ad5b</td>\n",
              "    </tr>\n",
              "    <tr>\n",
              "      <th>18453068</th>\n",
              "      <td>user_000960</td>\n",
              "      <td>2009-06-19 18:12:52+00:00</td>\n",
              "      <td>55a0e112-113c-40c7-9f2a-dec52ef5dc25</td>\n",
              "    </tr>\n",
              "    <tr>\n",
              "      <th>18453069</th>\n",
              "      <td>user_000960</td>\n",
              "      <td>2009-06-19 18:09:37+00:00</td>\n",
              "      <td>ada7a83c-e3e1-40f1-93f9-3e73dbc9298a</td>\n",
              "    </tr>\n",
              "  </tbody>\n",
              "</table>\n",
              "</div>"
            ],
            "text/plain": [
              "               userid                 timestamp  \\\n",
              "14293413  user_000762 2013-09-29 18:32:04+00:00   \n",
              "7696486   user_000405 2010-08-13 23:06:38+00:00   \n",
              "12032174  user_000651 2009-06-19 21:31:16+00:00   \n",
              "18453019  user_000960 2009-06-19 21:27:08+00:00   \n",
              "18453020  user_000960 2009-06-19 21:23:17+00:00   \n",
              "18453021  user_000960 2009-06-19 21:20:24+00:00   \n",
              "18453022  user_000960 2009-06-19 21:18:26+00:00   \n",
              "18453023  user_000960 2009-06-19 21:14:32+00:00   \n",
              "18453024  user_000960 2009-06-19 21:09:33+00:00   \n",
              "18453025  user_000960 2009-06-19 21:06:11+00:00   \n",
              "18453026  user_000960 2009-06-19 21:00:06+00:00   \n",
              "18453027  user_000960 2009-06-19 20:55:51+00:00   \n",
              "16342475  user_000842 2009-06-19 20:55:45+00:00   \n",
              "18453028  user_000960 2009-06-19 20:51:53+00:00   \n",
              "13743098  user_000724 2009-06-19 20:50:23+00:00   \n",
              "18453029  user_000960 2009-06-19 20:43:18+00:00   \n",
              "13743099  user_000724 2009-06-19 20:42:49+00:00   \n",
              "18453030  user_000960 2009-06-19 20:40:16+00:00   \n",
              "18453031  user_000960 2009-06-19 20:35:33+00:00   \n",
              "12016338  user_000650 2009-06-19 20:34:15+00:00   \n",
              "18453032  user_000960 2009-06-19 20:32:50+00:00   \n",
              "12032175  user_000651 2009-06-19 20:31:06+00:00   \n",
              "12032176  user_000651 2009-06-19 20:30:32+00:00   \n",
              "18453033  user_000960 2009-06-19 20:28:31+00:00   \n",
              "18453034  user_000960 2009-06-19 20:27:37+00:00   \n",
              "12032177  user_000651 2009-06-19 20:26:37+00:00   \n",
              "18453035  user_000960 2009-06-19 20:24:42+00:00   \n",
              "14122756  user_000751 2009-06-19 20:22:22+00:00   \n",
              "12032178  user_000651 2009-06-19 20:22:22+00:00   \n",
              "18453036  user_000960 2009-06-19 20:21:11+00:00   \n",
              "12032179  user_000651 2009-06-19 20:18:39+00:00   \n",
              "18453037  user_000960 2009-06-19 20:17:59+00:00   \n",
              "18453038  user_000960 2009-06-19 20:14:45+00:00   \n",
              "12032180  user_000651 2009-06-19 20:14:21+00:00   \n",
              "12032181  user_000651 2009-06-19 20:09:56+00:00   \n",
              "18453039  user_000960 2009-06-19 20:06:45+00:00   \n",
              "12032182  user_000651 2009-06-19 20:06:39+00:00   \n",
              "18453040  user_000960 2009-06-19 20:02:43+00:00   \n",
              "12032183  user_000651 2009-06-19 20:02:23+00:00   \n",
              "12032184  user_000651 2009-06-19 19:55:05+00:00   \n",
              "18453041  user_000960 2009-06-19 19:53:20+00:00   \n",
              "12032185  user_000651 2009-06-19 19:51:55+00:00   \n",
              "12032186  user_000651 2009-06-19 19:48:39+00:00   \n",
              "18453042  user_000960 2009-06-19 19:48:21+00:00   \n",
              "18453043  user_000960 2009-06-19 19:46:55+00:00   \n",
              "18453044  user_000960 2009-06-19 19:43:24+00:00   \n",
              "12032187  user_000651 2009-06-19 19:42:28+00:00   \n",
              "12032188  user_000651 2009-06-19 19:39:48+00:00   \n",
              "18453045  user_000960 2009-06-19 19:37:35+00:00   \n",
              "12032189  user_000651 2009-06-19 19:34:36+00:00   \n",
              "13743100  user_000724 2009-06-19 19:34:35+00:00   \n",
              "18453046  user_000960 2009-06-19 19:32:20+00:00   \n",
              "12032190  user_000651 2009-06-19 19:30:17+00:00   \n",
              "18453047  user_000960 2009-06-19 19:28:42+00:00   \n",
              "18453048  user_000960 2009-06-19 19:25:04+00:00   \n",
              "12032191  user_000651 2009-06-19 19:24:49+00:00   \n",
              "13743101  user_000724 2009-06-19 19:24:03+00:00   \n",
              "18453049  user_000960 2009-06-19 19:23:12+00:00   \n",
              "12032192  user_000651 2009-06-19 19:22:02+00:00   \n",
              "13743102  user_000724 2009-06-19 19:20:11+00:00   \n",
              "18453050  user_000960 2009-06-19 19:18:59+00:00   \n",
              "18453051  user_000960 2009-06-19 19:15:00+00:00   \n",
              "13743103  user_000724 2009-06-19 19:13:14+00:00   \n",
              "18453052  user_000960 2009-06-19 19:11:32+00:00   \n",
              "12032193  user_000651 2009-06-19 19:10:11+00:00   \n",
              "13743104  user_000724 2009-06-19 19:08:05+00:00   \n",
              "18453053  user_000960 2009-06-19 19:07:11+00:00   \n",
              "12032194  user_000651 2009-06-19 19:06:36+00:00   \n",
              "18453054  user_000960 2009-06-19 19:04:30+00:00   \n",
              "12032195  user_000651 2009-06-19 19:02:59+00:00   \n",
              "18453055  user_000960 2009-06-19 19:01:38+00:00   \n",
              "13743105  user_000724 2009-06-19 19:00:31+00:00   \n",
              "12032196  user_000651 2009-06-19 18:59:00+00:00   \n",
              "18453056  user_000960 2009-06-19 18:58:39+00:00   \n",
              "13743106  user_000724 2009-06-19 18:56:43+00:00   \n",
              "12032197  user_000651 2009-06-19 18:55:29+00:00   \n",
              "18453057  user_000960 2009-06-19 18:54:42+00:00   \n",
              "12032198  user_000651 2009-06-19 18:52:37+00:00   \n",
              "18453058  user_000960 2009-06-19 18:51:26+00:00   \n",
              "13743107  user_000724 2009-06-19 18:51:12+00:00   \n",
              "12032199  user_000651 2009-06-19 18:48:23+00:00   \n",
              "18453059  user_000960 2009-06-19 18:46:59+00:00   \n",
              "13743108  user_000724 2009-06-19 18:46:11+00:00   \n",
              "12032200  user_000651 2009-06-19 18:44:28+00:00   \n",
              "18453060  user_000960 2009-06-19 18:41:52+00:00   \n",
              "12032201  user_000651 2009-06-19 18:41:02+00:00   \n",
              "13743109  user_000724 2009-06-19 18:40:08+00:00   \n",
              "18453061  user_000960 2009-06-19 18:37:55+00:00   \n",
              "12032202  user_000651 2009-06-19 18:37:49+00:00   \n",
              "18453062  user_000960 2009-06-19 18:34:22+00:00   \n",
              "13743110  user_000724 2009-06-19 18:32:02+00:00   \n",
              "18453063  user_000960 2009-06-19 18:30:32+00:00   \n",
              "13743111  user_000724 2009-06-19 18:27:12+00:00   \n",
              "18453064  user_000960 2009-06-19 18:25:15+00:00   \n",
              "18453065  user_000960 2009-06-19 18:21:11+00:00   \n",
              "18453066  user_000960 2009-06-19 18:20:17+00:00   \n",
              "13743112  user_000724 2009-06-19 18:17:53+00:00   \n",
              "18453067  user_000960 2009-06-19 18:15:37+00:00   \n",
              "18453068  user_000960 2009-06-19 18:12:52+00:00   \n",
              "18453069  user_000960 2009-06-19 18:09:37+00:00   \n",
              "\n",
              "                         musicbrainz-artist-id  \n",
              "14293413  d8354b38-e942-4c89-ba93-29323432abc3  \n",
              "7696486   5f572b31-8fd9-45ae-9beb-358c98d839df  \n",
              "12032174  c43c7134-5d6f-4bfa-8275-b4012ae97c46  \n",
              "18453019  5cbef01b-cc35-4f52-af7b-d0df0c4f61b9  \n",
              "18453020  0039c7ae-e1a7-4a7d-9b49-0cbc716821a6  \n",
              "18453021  3f542031-b054-454d-b57b-812fa2a81b11  \n",
              "18453022  09037f07-42bc-46ac-a1ee-37f834451fee  \n",
              "18453023  db9d25d7-a85b-4a29-b2ff-8f5b69ed691e  \n",
              "18453024  20883363-1ea4-4d72-ad72-c0e767038f3e  \n",
              "18453025                                   NaN  \n",
              "18453026  9a58fda3-f4ed-4080-a3a5-f457aac9fcdd  \n",
              "18453027  299278d3-25dd-4f30-bae4-5b571c28034d  \n",
              "16342475  f91e3a88-24ee-4563-8963-fab73d2765ed  \n",
              "18453028  28b2fb52-a83a-40ec-8617-6436e26eb3fd  \n",
              "13743098  f91e3a88-24ee-4563-8963-fab73d2765ed  \n",
              "18453029  0039c7ae-e1a7-4a7d-9b49-0cbc716821a6  \n",
              "13743099  f91e3a88-24ee-4563-8963-fab73d2765ed  \n",
              "18453030  0c751690-c784-4a4f-b1e4-c1de27d47581  \n",
              "18453031  299278d3-25dd-4f30-bae4-5b571c28034d  \n",
              "12016338  cd84f520-7cd7-4e47-8cab-7beeceec3210  \n",
              "18453032  3f542031-b054-454d-b57b-812fa2a81b11  \n",
              "12032175  36173039-4adf-4a25-920f-ba5bdda5df63  \n",
              "12032176  36173039-4adf-4a25-920f-ba5bdda5df63  \n",
              "18453033  b23e8a63-8f47-4882-b55b-df2c92ef400e  \n",
              "18453034  d4ad0149-d8ae-4105-8009-0221fce9ff35  \n",
              "12032177  3fdcc960-92de-49b6-9016-320aebf784c4  \n",
              "18453035  55a0e112-113c-40c7-9f2a-dec52ef5dc25  \n",
              "14122756  b3bc168f-24f6-4c46-b901-2c491c0a7abf  \n",
              "12032178  b3bc168f-24f6-4c46-b901-2c491c0a7abf  \n",
              "18453036  0039c7ae-e1a7-4a7d-9b49-0cbc716821a6  \n",
              "12032179  650e7db6-b795-4eb5-a702-5ea2fc46c848  \n",
              "18453037  6c8b9855-ba8b-48f9-ac1d-42167f7f7b18  \n",
              "18453038  87c5dedd-371d-4a53-9f7f-80522fb7f3cb  \n",
              "12032180  e14ec652-6d81-4511-a697-f3bc700d2954  \n",
              "12032181  6f92929a-6381-48ac-b348-83b43b9cf646  \n",
              "18453039  3bcff06f-675a-451f-9075-99e8657047e8  \n",
              "12032182  6f92929a-6381-48ac-b348-83b43b9cf646  \n",
              "18453040  60feda7a-9247-48fe-8892-79f9a7d0d503  \n",
              "12032183  34445610-12bc-4f4a-b88f-03b23b532f04  \n",
              "12032184  c373c5ac-f35c-4498-8b21-c261edc78d4c  \n",
              "18453041  b23e8a63-8f47-4882-b55b-df2c92ef400e  \n",
              "12032185  6f92929a-6381-48ac-b348-83b43b9cf646  \n",
              "12032186  6f92929a-6381-48ac-b348-83b43b9cf646  \n",
              "18453042  1946a82a-f927-40c2-8235-38d64f50d043  \n",
              "18453043  87c5dedd-371d-4a53-9f7f-80522fb7f3cb  \n",
              "18453044  55a0e112-113c-40c7-9f2a-dec52ef5dc25  \n",
              "12032187  98ba209f-b3e7-4d01-9565-2a85c22ba78e  \n",
              "12032188  09444b9e-f11e-4416-a376-bbf7dc6e9139  \n",
              "18453045  9a58fda3-f4ed-4080-a3a5-f457aac9fcdd  \n",
              "12032189  b3ba2385-032b-4c83-8a27-dff744a6b584  \n",
              "13743100  f91e3a88-24ee-4563-8963-fab73d2765ed  \n",
              "18453046  584c04d2-4acc-491b-8a0a-e63133f4bfc4  \n",
              "12032190  8fac0731-b031-429e-a34c-9a9655f16d2b  \n",
              "18453047  28b2fb52-a83a-40ec-8617-6436e26eb3fd  \n",
              "18453048  3f542031-b054-454d-b57b-812fa2a81b11  \n",
              "12032191  78e562c1-b19a-4f68-996e-385af280baa3  \n",
              "13743101  f91e3a88-24ee-4563-8963-fab73d2765ed  \n",
              "18453049  6c8b9855-ba8b-48f9-ac1d-42167f7f7b18  \n",
              "12032192  78e562c1-b19a-4f68-996e-385af280baa3  \n",
              "13743102  f91e3a88-24ee-4563-8963-fab73d2765ed  \n",
              "18453050  2f360fd9-6440-4896-9f45-8156e8b0b204  \n",
              "18453051  78f797e3-4913-4026-aad0-1cd858bd735b  \n",
              "13743103  f91e3a88-24ee-4563-8963-fab73d2765ed  \n",
              "18453052  ada7a83c-e3e1-40f1-93f9-3e73dbc9298a  \n",
              "12032193  db76c5ca-d555-4f09-b1db-baa1b713d875  \n",
              "13743104  f91e3a88-24ee-4563-8963-fab73d2765ed  \n",
              "18453053  0039c7ae-e1a7-4a7d-9b49-0cbc716821a6  \n",
              "12032194  31bea673-d23a-4889-8da1-7cb040863268  \n",
              "18453054  e132d370-2a59-4437-8610-756df28a5a02  \n",
              "12032195  31bea673-d23a-4889-8da1-7cb040863268  \n",
              "18453055  4449ccf6-c948-4d33-aa97-b6ad98ce4b5b  \n",
              "13743105  f91e3a88-24ee-4563-8963-fab73d2765ed  \n",
              "12032196  31bea673-d23a-4889-8da1-7cb040863268  \n",
              "18453056  397bdd61-95b9-44e1-90aa-ff27e6bc28cf  \n",
              "13743106  f91e3a88-24ee-4563-8963-fab73d2765ed  \n",
              "12032197  664a8867-2e24-4d05-9bae-de5f7b16f17b  \n",
              "18453057  9e53f84d-ef44-4c16-9677-5fd4d78cbd7d  \n",
              "12032198  664a8867-2e24-4d05-9bae-de5f7b16f17b  \n",
              "18453058  309c62ba-7a22-4277-9f67-4a162526d18a  \n",
              "13743107  f91e3a88-24ee-4563-8963-fab73d2765ed  \n",
              "12032199  122d63fc-8671-43e4-9752-34e846d62a9c  \n",
              "18453059  309c62ba-7a22-4277-9f67-4a162526d18a  \n",
              "13743108  f91e3a88-24ee-4563-8963-fab73d2765ed  \n",
              "12032200  122d63fc-8671-43e4-9752-34e846d62a9c  \n",
              "18453060  b2274e6d-10e8-4068-9dd2-eb55d4a144b5  \n",
              "12032201  693a2415-8cd3-4119-8b8f-8fc3c6a2db7a  \n",
              "13743109  f91e3a88-24ee-4563-8963-fab73d2765ed  \n",
              "18453061  6c8b9855-ba8b-48f9-ac1d-42167f7f7b18  \n",
              "12032202  693a2415-8cd3-4119-8b8f-8fc3c6a2db7a  \n",
              "18453062  25b75a66-ce83-4db3-b136-395a3c3784c4  \n",
              "13743110  f91e3a88-24ee-4563-8963-fab73d2765ed  \n",
              "18453063  0039c7ae-e1a7-4a7d-9b49-0cbc716821a6  \n",
              "13743111  f91e3a88-24ee-4563-8963-fab73d2765ed  \n",
              "18453064  9e53f84d-ef44-4c16-9677-5fd4d78cbd7d  \n",
              "18453065  a506f761-2c22-4b2f-8a94-bd748c2c8f75  \n",
              "18453066  09037f07-42bc-46ac-a1ee-37f834451fee  \n",
              "13743112  f91e3a88-24ee-4563-8963-fab73d2765ed  \n",
              "18453067  b9a2a9a6-7a40-48a6-bcb1-8eff5b89ad5b  \n",
              "18453068  55a0e112-113c-40c7-9f2a-dec52ef5dc25  \n",
              "18453069  ada7a83c-e3e1-40f1-93f9-3e73dbc9298a  "
            ]
          },
          "metadata": {
            "tags": []
          },
          "execution_count": 12
        }
      ]
    },
    {
      "cell_type": "code",
      "metadata": {
        "id": "GbFa8rXUXMtQ",
        "colab_type": "code",
        "colab": {
          "base_uri": "https://localhost:8080/",
          "height": 34
        },
        "outputId": "6f8ccfcc-b117-4057-b2a3-3f25c3ba6541"
      },
      "source": [
        "(k.timestamp.max() - k.timestamp.min()).days"
      ],
      "execution_count": 21,
      "outputs": [
        {
          "output_type": "execute_result",
          "data": {
            "text/plain": [
              "1586"
            ]
          },
          "metadata": {
            "tags": []
          },
          "execution_count": 21
        }
      ]
    },
    {
      "cell_type": "code",
      "metadata": {
        "id": "_B5vSjPislpM",
        "colab_type": "code",
        "colab": {
          "base_uri": "https://localhost:8080/",
          "height": 127
        },
        "outputId": "3bdcbcb8-2206-465c-dd4f-f7bf71c2f81a"
      },
      "source": [
        "#Amount for each customer\n",
        "import datetime as dt\n",
        "\n",
        "#Set Latest date 2011-12-10 as last invoice date was 2011-12-09. This is to calculate the number of days from recent purchase\n",
        "Latest_Date = k.timestamp.max()\n",
        "\n",
        "#Create RFM Modelling scores for each customer\n",
        "RFMScores = k.groupby('userid').agg({'timestamp': lambda x: (Latest_Date - x.max()).days, 'InvoiceNo': lambda x: len(x), 'TotalAmount': lambda x: x.sum()})\n",
        "\n",
        "#Convert Invoice Date into type int\n",
        "RFMScores['InvoiceDate'] = RFMScores['InvoiceDate'].astype(int)\n",
        "\n",
        "#Rename column names to Recency, Frequency and Monetary\n",
        "RFMScores.rename(columns={'InvoiceDate': 'Recency', \n",
        "                         'InvoiceNo': 'Frequency', \n",
        "                         'TotalAmount': 'Monetary'}, inplace=True)\n",
        "\n",
        "RFMScores.reset_index().head()"
      ],
      "execution_count": 13,
      "outputs": [
        {
          "output_type": "error",
          "ename": "SyntaxError",
          "evalue": "ignored",
          "traceback": [
            "\u001b[0;36m  File \u001b[0;32m\"<ipython-input-13-755e7f6ea4e1>\"\u001b[0;36m, line \u001b[0;32m5\u001b[0m\n\u001b[0;31m    Latest_Date = dt.datetime(2013,09,29)\u001b[0m\n\u001b[0m                                    ^\u001b[0m\n\u001b[0;31mSyntaxError\u001b[0m\u001b[0;31m:\u001b[0m invalid token\n"
          ]
        }
      ]
    },
    {
      "cell_type": "code",
      "metadata": {
        "id": "SaYGpNDwt47f",
        "colab_type": "code",
        "colab": {
          "base_uri": "https://localhost:8080/",
          "height": 67
        },
        "outputId": "d79823fe-a1c7-4e6c-9b33-a750c92950c0"
      },
      "source": [
        "df.dtypes"
      ],
      "execution_count": 130,
      "outputs": [
        {
          "output_type": "execute_result",
          "data": {
            "text/plain": [
              "0                     int64\n",
              "time    datetime64[ns, UTC]\n",
              "dtype: object"
            ]
          },
          "metadata": {
            "tags": []
          },
          "execution_count": 130
        }
      ]
    },
    {
      "cell_type": "code",
      "metadata": {
        "id": "-4NZI6LYtop7",
        "colab_type": "code",
        "colab": {
          "base_uri": "https://localhost:8080/",
          "height": 201
        },
        "outputId": "0ec6752c-3d4e-4f56-c772-e015c1c1e681"
      },
      "source": [
        "df"
      ],
      "execution_count": 125,
      "outputs": [
        {
          "output_type": "execute_result",
          "data": {
            "text/html": [
              "<div>\n",
              "<style scoped>\n",
              "    .dataframe tbody tr th:only-of-type {\n",
              "        vertical-align: middle;\n",
              "    }\n",
              "\n",
              "    .dataframe tbody tr th {\n",
              "        vertical-align: top;\n",
              "    }\n",
              "\n",
              "    .dataframe thead th {\n",
              "        text-align: right;\n",
              "    }\n",
              "</style>\n",
              "<table border=\"1\" class=\"dataframe\">\n",
              "  <thead>\n",
              "    <tr style=\"text-align: right;\">\n",
              "      <th></th>\n",
              "      <th>0</th>\n",
              "      <th>time</th>\n",
              "    </tr>\n",
              "  </thead>\n",
              "  <tbody>\n",
              "    <tr>\n",
              "      <th>0</th>\n",
              "      <td>1</td>\n",
              "      <td>2009-05-04 23:08:57+00:00</td>\n",
              "    </tr>\n",
              "    <tr>\n",
              "      <th>1</th>\n",
              "      <td>2</td>\n",
              "      <td>2009-05-04 13:54:10+00:00</td>\n",
              "    </tr>\n",
              "    <tr>\n",
              "      <th>2</th>\n",
              "      <td>3</td>\n",
              "      <td>2009-05-04 13:52:04+00:00</td>\n",
              "    </tr>\n",
              "    <tr>\n",
              "      <th>3</th>\n",
              "      <td>4</td>\n",
              "      <td>2009-05-04 13:42:52+00:00</td>\n",
              "    </tr>\n",
              "    <tr>\n",
              "      <th>4</th>\n",
              "      <td>5</td>\n",
              "      <td>2009-05-04 13:42:11+00:00</td>\n",
              "    </tr>\n",
              "  </tbody>\n",
              "</table>\n",
              "</div>"
            ],
            "text/plain": [
              "   0                      time\n",
              "0  1 2009-05-04 23:08:57+00:00\n",
              "1  2 2009-05-04 13:54:10+00:00\n",
              "2  3 2009-05-04 13:52:04+00:00\n",
              "3  4 2009-05-04 13:42:52+00:00\n",
              "4  5 2009-05-04 13:42:11+00:00"
            ]
          },
          "metadata": {
            "tags": []
          },
          "execution_count": 125
        }
      ]
    },
    {
      "cell_type": "code",
      "metadata": {
        "id": "5NMqnVRR42tN",
        "colab_type": "code",
        "colab": {}
      },
      "source": [
        "df.time = pd.to_datetime(df[\"time\"])"
      ],
      "execution_count": 127,
      "outputs": []
    },
    {
      "cell_type": "code",
      "metadata": {
        "id": "krghnrvm5IvJ",
        "colab_type": "code",
        "colab": {
          "base_uri": "https://localhost:8080/",
          "height": 116
        },
        "outputId": "d498786d-5554-4a1d-eea9-9672d64eabd1"
      },
      "source": [
        "df.time"
      ],
      "execution_count": 128,
      "outputs": [
        {
          "output_type": "execute_result",
          "data": {
            "text/plain": [
              "0   NaT\n",
              "1   NaT\n",
              "2   NaT\n",
              "3   NaT\n",
              "4   NaT\n",
              "Name: time, dtype: datetime64[ns, UTC]"
            ]
          },
          "metadata": {
            "tags": []
          },
          "execution_count": 128
        }
      ]
    },
    {
      "cell_type": "code",
      "metadata": {
        "id": "bZJr9LZX5Puj",
        "colab_type": "code",
        "colab": {}
      },
      "source": [
        ""
      ],
      "execution_count": null,
      "outputs": []
    }
  ]
}